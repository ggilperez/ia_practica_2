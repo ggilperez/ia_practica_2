{
 "cells": [
  {
   "cell_type": "markdown",
   "metadata": {
    "id": "6aQVpjvoIrst"
   },
   "source": [
    "# Algoritmos Genéticos - Tutorial de programación\n",
    "Vamos a desarrollar un algoritmo genético para resolver el problema de la mochila (Knapsack problem). Para ello usaremos una codificación de cadena de bits (indicando si el objeto de cada posición de la cadena se añade o no a la mochila)."
   ]
  },
  {
   "cell_type": "markdown",
   "metadata": {
    "id": "ulEWjoutI_o3"
   },
   "source": [
    "# Números (pseudo)aleatorios\n",
    "Al usar números aleatorios, se puede definir una semilla (seed), que permite que la generación de números aleatorios sea siempre la misma al repetir la ejecución del algoritmo. Esta dará reproducibilidad al algoritmo genético, permitiendo repetir el experimento con los mismos números aleatorios y obteniendo así el mismo resultado.\n",
    "\n",
    "Cuando se desarrolla un algoritmo genético, y en general para cualquier algoritmo estocástico, se suele ejecutar múltiples veces el experimento con distintas semillas y luego se saca la media y desviación típica de los resultados (fitness). Una buena práctica es realizar un mínimo de 30 ejecuciones del algoritmo con distintas semillas, lo cual asegurará la significatividad estadística de los resultados."
   ]
  },
  {
   "cell_type": "code",
   "execution_count": 1,
   "metadata": {
    "id": "h3_rvVZVOqhH"
   },
   "outputs": [],
   "source": [
    "import numpy as np\n",
    "np.random.seed(1234567890)"
   ]
  },
  {
   "cell_type": "markdown",
   "metadata": {
    "id": "-hWCm2RjKG84"
   },
   "source": [
    "# Definición del problema de la mochila\n",
    "Vamos a definir la representación del problema de la mochila mediante cadenas/arrays de bits, donde el 1 indica que se guarda el objeto. Las cadenas tendrán un tamaño fijo igual al número de objetos y usarán el mismo alfabeto para todos los genes.\n",
    "\n",
    "Para definir la función de fitness primeramente comprueba si el peso de la mochila ha sido sobrepasado, en cuyo caso devuelve 0. Si no, realizará una suma de los valores de los objetos que se consideran en la solución del cromosoma pasado como argumento."
   ]
  },
  {
   "cell_type": "code",
   "execution_count": 2,
   "metadata": {
    "id": "CXm9rb50Zyd7"
   },
   "outputs": [],
   "source": [
    "alphabet = [0,1]\n",
    "\n",
    "def knapsack_fitness(chromosome, *args, **kwargs):\n",
    "    fitness = 0\n",
    "    weights=kwargs['weights'] # kwargs almacena un diccionario con argumentos nominales extra\n",
    "    values=kwargs['values']\n",
    "    max_weight =kwargs['max_weight']\n",
    "    if np.dot(weights, chromosome) <= max_weight:\n",
    "        fitness = np.dot(values, chromosome)\n",
    "    return fitness"
   ]
  },
  {
   "cell_type": "markdown",
   "metadata": {
    "id": "6HsgsBbqL31p"
   },
   "source": [
    "# Definición de los operadores genéticos\n",
    "Definimos una función para generar un individuo aleatorio en base a la longitud del cromosoma y a los valores del alfabeto."
   ]
  },
  {
   "cell_type": "code",
   "execution_count": 3,
   "metadata": {
    "id": "7-hKCKeyvtEa"
   },
   "outputs": [],
   "source": [
    "def generate_random_individual(alphabet, length, *args, **kwargs):\n",
    "    indices = np.random.randint(0, len(alphabet), length)\n",
    "    return np.array(alphabet)[indices]"
   ]
  },
  {
   "cell_type": "markdown",
   "metadata": {
    "id": "o4pagaQ7vrw2"
   },
   "source": [
    "Definimos la función de selección usando el método de la ruleta (Roulette Wheel Selection), en el cual usamos las probabilidades calculadas a partir de la fitness para elegir de una pasada todos los padres que se usarán para la fase de reproducción. Esta función solo funcionará correctamente si las fitness es de maximización y tiene valores positivos."
   ]
  },
  {
   "cell_type": "code",
   "execution_count": 4,
   "metadata": {
    "id": "RYDKU5nIkc1V"
   },
   "outputs": [],
   "source": [
    "def roulette_wheel_selection(population, fitness, number_parents, *args, **kwargs):\n",
    "    population_fitness = sum(fitness)\n",
    "    chromosome_probabilities = [f/population_fitness for f in fitness]\n",
    "    indices = np.random.choice(range(len(fitness)), number_parents, p=chromosome_probabilities)\n",
    "    return [population[i] for i in indices]"
   ]
  },
  {
   "cell_type": "markdown",
   "metadata": {
    "id": "Md-qyW1QvyE2"
   },
   "source": [
    "Definimos el operador de cruce de un punto, que en base a la probabilidad de cruce decidira si se cruza. En caso afirmativo, se elige un punto de corte aleatorio entre 1 y L-1, y partimos e intercambiamos los cromosomas de los padres a partir de ese punto. Esta función solo será válida para padres de igual longitud."
   ]
  },
  {
   "cell_type": "code",
   "execution_count": 5,
   "metadata": {
    "id": "AqPzObCrvvh7"
   },
   "outputs": [],
   "source": [
    "def one_point_crossover(parent1, parent2, p_cross, *args, **kwargs):\n",
    "    if np.random.random() < p_cross:\n",
    "        point = np.random.randint(1,len(parent1)-1)\n",
    "        child1 = np.append(parent1[:point],parent2[point:])\n",
    "        child2 = np.append(parent2[:point],parent1[point:])\n",
    "        return child1, child2\n",
    "    else:\n",
    "        return parent1, parent2"
   ]
  },
  {
   "cell_type": "markdown",
   "metadata": {
    "id": "EXvK23P7vyY7"
   },
   "source": [
    "Definimos el operador de mutación uniforme, que selecciona una máscara de posiciones a mutar en base a la probabilidad pmut, y selecciona nuevos valores aleatorios del alfabeto para dichas posiciones de la máscara."
   ]
  },
  {
   "cell_type": "code",
   "execution_count": 6,
   "metadata": {
    "id": "vQ0JPulmvvXs"
   },
   "outputs": [],
   "source": [
    "def uniform_mutation(chromosome, p_mut, alphabet, *args, **kwargs):\n",
    "    child = np.copy(chromosome)\n",
    "    random_values = np.random.random(len(chromosome))\n",
    "    mask = random_values < p_mut\n",
    "    indices = np.random.randint(0, len(alphabet), size=np.count_nonzero(mask))\n",
    "    child[mask] = np.array(alphabet)[indices]\n",
    "    return child"
   ]
  },
  {
   "cell_type": "markdown",
   "metadata": {
    "id": "_BELsOqk6m3z"
   },
   "source": [
    "Definimos el criterio de parada básico, que terminará la ejecución cuando se haya alcanzado un número concreto de generaciones."
   ]
  },
  {
   "cell_type": "code",
   "execution_count": 7,
   "metadata": {
    "id": "cLbwrWUd7VrD"
   },
   "outputs": [],
   "source": [
    "def generation_stop(generation, fitness, best_fitness, mean_fitness, *args, **kwargs):\n",
    "    max_gen=kwargs['max_gen']\n",
    "    return generation >= max_gen"
   ]
  },
  {
   "cell_type": "markdown",
   "metadata": {
    "id": "Fw9vwb0c1sRd"
   },
   "source": [
    "# Definición del algoritmo genético\n",
    "A continuación se implementa el algoritmo genético. Este algoritmo solo funcionará con cadenas de tamaño fijo en la que todos los genes usen el mismo alfabeto y usando el reemplazo como selección ambiental.\n",
    "El algoritmo deberá recibir el alfabeto a usar, la longitud del cromosoma, el tamaño de la población, las funciones para generar individuos, calcular la fitness, el criterio de parada, la selección parental, el cruce y la mutación, así como las probabilidades de cruce y mutación y el tamaño del elitismo.\n",
    "Después del proceso evolutivo, el algoritmo devolverá el mejor individuo encontrado y su valor de fitness, la generación en la que se ha acabado y la fitness mejor y media obtenida en cada generación."
   ]
  },
  {
   "cell_type": "code",
   "execution_count": 8,
   "metadata": {
    "id": "MK68T31s3w6i"
   },
   "outputs": [],
   "source": [
    "import math\n",
    "\n",
    "def genetic_algorithm(alphabet, length, pop_size, generate_individual, fitness, stopping_criteria, elitism, selection, crossover, p_cross, mutation, p_mut, *args, **kwargs):\n",
    "    # Population initialization\n",
    "    population = [generate_individual(alphabet, length, *args, **kwargs) for _ in range(pop_size)]\n",
    "    offspring_size = pop_size - elitism\n",
    "    generation = 0\n",
    "    best_fitness = []\n",
    "    mean_fitness = []\n",
    "\n",
    "    # First fitness evaluation\n",
    "    fitness_values = [fitness(x, *args, **kwargs) for x in population]\n",
    "    best_fitness.append(np.max(fitness_values))\n",
    "    mean_fitness.append(np.mean(fitness_values))\n",
    "\n",
    "    # Main loop, checking stopping criteria\n",
    "    while not stopping_criteria(generation, fitness_values, best_fitness, mean_fitness, *args, **kwargs):\n",
    "\n",
    "        # Select elite parents\n",
    "        if elitism > 0:\n",
    "            indices = np.argpartition(fitness_values, -elitism)[-elitism:]\n",
    "            elite = [population[i] for i in indices]\n",
    "\n",
    "        # Select the parents and perform crossover and mutation\n",
    "        parents = selection(population, fitness_values, offspring_size if (offspring_size%2==0) else offspring_size+1, *args, **kwargs)\n",
    "        offspring = []\n",
    "        for k in range(math.ceil(offspring_size/2)):\n",
    "            parent1 = parents[2*k]\n",
    "            parent2 = parents[2*k+1]\n",
    "            child1, child2 = crossover(parent1, parent2, p_cross, *args, **kwargs)\n",
    "            child1 = mutation(child1, p_mut, alphabet, *args, **kwargs)\n",
    "            offspring.append(child1)\n",
    "            if 2*k+1 < offspring_size:\n",
    "                child2 = mutation(child2, p_mut, alphabet, *args, **kwargs)\n",
    "                offspring.append(child2)\n",
    "\n",
    "        # Build new population (replacing)\n",
    "        if elitism > 0:\n",
    "            population[:elitism] = elite\n",
    "            population[elitism:] = offspring\n",
    "\n",
    "        # Compute fitness of new population\n",
    "        fitness_values = [fitness(x, *args, **kwargs) for x in population]\n",
    "        best_fitness.append(np.max(fitness_values))\n",
    "        mean_fitness.append(np.mean(fitness_values))\n",
    "        generation += 1\n",
    "\n",
    "    # Get the fittest individual\n",
    "    fittest_index = np.where(fitness_values == np.max(fitness_values))[0][0]\n",
    "    fittest_individual = population[fittest_index]\n",
    "    fittest_fitness = fitness_values[fittest_index]\n",
    "\n",
    "    return fittest_individual, fittest_fitness, generation, best_fitness, mean_fitness"
   ]
  },
  {
   "cell_type": "markdown",
   "metadata": {
    "id": "8t55OSvQLv5C"
   },
   "source": [
    "# Creación de un ejemplo de prueba\n",
    "Definimos a continuación un problema de la mochila con 50 objetos."
   ]
  },
  {
   "cell_type": "code",
   "execution_count": 9,
   "metadata": {
    "id": "C2LwCJv3il5y"
   },
   "outputs": [],
   "source": [
    "# Problem definition\n",
    "length = 50\n",
    "values = [360, 83, 59, 130, 431, 67, 230, 52, 93, 125, 670, 892, 600, 38, 48, 147,\n",
    "          78, 256, 63, 17, 120, 164, 432, 35, 92, 110, 22, 42, 50, 323, 514, 28,\n",
    "          87, 73, 78, 15, 26, 78, 210, 36, 85, 189, 274, 43, 33, 10, 19, 389, 276,\n",
    "          312]\n",
    "weights = [7, 0, 30, 22, 80, 94, 11, 81, 70, 64, 59, 18, 0, 36, 3, 8, 15, 42, 9, 0,\n",
    "            42, 47, 52, 32, 26, 48, 55, 6, 29, 84, 2, 4, 18, 56, 7, 29, 93, 44, 71,\n",
    "            3, 86, 66, 31, 65, 0, 79, 20, 65, 52, 13]\n",
    "max_weight = 850"
   ]
  },
  {
   "cell_type": "markdown",
   "metadata": {
    "id": "SKxODCMSMM75"
   },
   "source": [
    "# Ejecución del algoritmo genético para el problema de la mochila\n",
    "A continuación se ejecuta el algoritmo genético para el problema de la mochila durante un número de generaciones fijado y se muestran los resultados obtenidos.\n",
    "Para comprobar como ha evolucionado el proceso de convergencia del algoritmo genético, representamos en una gráfica tanto la mejor fitness como la fitness media durante las generaciones que se realizaron."
   ]
  },
  {
   "cell_type": "code",
   "execution_count": 10,
   "metadata": {
    "id": "5j6HvnODzlSs"
   },
   "outputs": [
    {
     "name": "stdout",
     "output_type": "stream",
     "text": [
      "Best Individual:\n",
      "[1 1 0 1 1 0 1 0 0 0 1 1 1 0 1 1 1 1 1 0 1 1 1 0 1 1 0 0 0 1 1 1 1 0 1 0 0\n",
      " 0 1 1 0 0 1 0 1 0 0 1 1 1]\n",
      "\n",
      "Best Individual's Fitness:7466\n",
      "\n",
      "Evolution:\n"
     ]
    },
    {
     "data": {
      "text/plain": [
       "Text(510.4494949494949, 0.5, 'Mean Fitness')"
      ]
     },
     "execution_count": 10,
     "metadata": {},
     "output_type": "execute_result"
    },
    {
     "data": {
      "image/png": "[encoded data removed]",
      "text/plain": [
       "<Figure size 1000x500 with 2 Axes>"
      ]
     },
     "metadata": {},
     "output_type": "display_data"
    }
   ],
   "source": [
    "# Parameter initialization\n",
    "pop_size = 100\n",
    "elitism = 10\n",
    "generations = 100\n",
    "p_cross = 1.0\n",
    "p_mut = 0.05\n",
    "\n",
    "fittest_individual, fittest_fitness, generation, best_fitness, mean_fitness = genetic_algorithm(alphabet, length, pop_size, generate_random_individual, knapsack_fitness, generation_stop, elitism, roulette_wheel_selection, one_point_crossover, p_cross, uniform_mutation, p_mut, weights=weights, values=values, max_weight=max_weight, max_gen=generations)\n",
    "\n",
    "print(\"Best Individual:\")\n",
    "print(fittest_individual)\n",
    "print(\"\\nBest Individual's Fitness:\" + str(fittest_fitness))\n",
    "\n",
    "\n",
    "print(\"\\nEvolution:\")\n",
    "\n",
    "import matplotlib.pyplot as plt\n",
    "x = np.linspace(0, generations+1, generations+1)\n",
    "fig, (ax1, ax2) = plt.subplots(1, 2, figsize=(10,5))\n",
    "fig.tight_layout(pad=5.0)\n",
    "ax1.plot(x, best_fitness)\n",
    "ax2.plot(x, mean_fitness)\n",
    "ax1.set_xlabel('Generation')\n",
    "ax1.set_ylabel('Best Fitness')\n",
    "ax2.set_xlabel('Generation')\n",
    "ax2.set_ylabel('Mean Fitness')"
   ]
  },
  {
   "cell_type": "markdown",
   "metadata": {
    "id": "P44IQZhuMrKx"
   },
   "source": [
    "# Evaluación de la calidad\n",
    "Para evaluar la calidad del algoritmo, dada su naturaleza estocástica, debemos ejecutar múltiples veces con distintas semillas (>30 veces) y sacar la media de la mejor fitness (MBF)."
   ]
  },
  {
   "cell_type": "code",
   "execution_count": 11,
   "metadata": {
    "id": "HAD8XzQd8AUu"
   },
   "outputs": [
    {
     "name": "stdout",
     "output_type": "stream",
     "text": [
      "MBF: 7451 ± 46.723644172208814\n"
     ]
    }
   ],
   "source": [
    "from statistics import mean, stdev\n",
    "\n",
    "n_ex = 31\n",
    "fitness_ex = []\n",
    "for i in range(n_ex):\n",
    "    np.random.seed(1234567890 + i*23)\n",
    "    _, fittest_fitness, _, _, _ = genetic_algorithm(alphabet, length, pop_size, generate_random_individual, knapsack_fitness, generation_stop, elitism, roulette_wheel_selection, one_point_crossover, p_cross, uniform_mutation, p_mut, weights=weights, values=values, max_weight=max_weight, max_gen=generations)\n",
    "    fitness_ex.append(fittest_fitness)\n",
    "\n",
    "print(\"MBF: \" + str(mean(fitness_ex)) + \" \" + u\"\\u00B1\" + \" \" + str(stdev([int(x) for x in fitness_ex])))\n"
   ]
  },
  {
   "cell_type": "markdown",
   "metadata": {
    "id": "TQRfM8E83hL2"
   },
   "source": [
    "# Ejercicios"
   ]
  },
  {
   "cell_type": "markdown",
   "metadata": {
    "id": "OUvsZAzX3yRc"
   },
   "source": [
    "## Ejercicio 1\n",
    "Implementar los métodos de selección *selección por torneo* (con su parámetro extra T) y *selección de rango* (con su parámetro extra p), así como un método de criterio de parada que considere el estancamiento de la fitness.\n",
    "\n",
    "Prueba el algoritmo genético para el problema de la mochila con las distintas combinaciones de operadores e hiperparámetros y encuentra la mejor combinación en términos de la MBF."
   ]
  },
  {
   "cell_type": "markdown",
   "metadata": {
    "id": "Yr4vB8w65tUl"
   },
   "source": [
    "## Ejercicio 2\n",
    "Define e implementa otra función de fitness diferente para el problema de la mochila que tenga en cuenta también las soluciones que no cumplen la restricción.\n",
    "\n",
    "Prueba el algoritmo genético para el problema de la mochila con esta nueva fitness y compara qué fitness es mejor en términos de la MBF."
   ]
  },
  {
   "cell_type": "markdown",
   "metadata": {
    "id": "S9v-cBE26gTP"
   },
   "source": [
    "## Ejercicio 3\n",
    "Implementa y resolver utilizando un algoritmo evolutivo el problema de empaquetamiento (Bin packing problem), en el cuál hay que asignar varios objetos de diferente peso a cajas de un peso máximo específico,intentando minimizar el número de cajas utilizadas para almacenar todos los objetos."
   ]
  },
  {
   "cell_type": "code",
   "execution_count": 12,
   "metadata": {
    "id": "dYubIjXe8a4k"
   },
   "outputs": [],
   "source": [
    "# Problem definition\n",
    "length = 52\n",
    "weights = [50, 50, 35, 35, 34, 34, 34, 33, 33, 33, 32, 31, 31, 30, 30, 29, 28,\n",
    "           28, 28, 27, 26, 26, 26, 26, 25, 25, 22, 22, 21, 20, 18, 18, 16, 16,\n",
    "           16, 16, 16, 13, 13, 13, 12, 11, 11, 10, 10, 9, 9, 7, 7, 7, 7, 5]\n",
    "bin_weight = 50"
   ]
  }
 ],
 "metadata": {
  "colab": {
   "collapsed_sections": [
    "TQRfM8E83hL2"
   ],
   "provenance": []
  },
  "kernelspec": {
   "display_name": "venv",
   "language": "python",
   "name": "python3"
  },
  "language_info": {
   "codemirror_mode": {
    "name": "ipython",
    "version": 3
   },
   "file_extension": ".py",
   "mimetype": "text/x-python",
   "name": "python",
   "nbconvert_exporter": "python",
   "pygments_lexer": "ipython3",
   "version": "3.12.4"
  }
 },
 "nbformat": 4,
 "nbformat_minor": 0
}
